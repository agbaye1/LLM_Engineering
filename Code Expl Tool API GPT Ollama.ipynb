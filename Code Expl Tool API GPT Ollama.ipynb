{
 "cells": [
  {
   "cell_type": "code",
   "execution_count": 25,
   "id": "286e2fb3-ab07-4ab2-b31e-eda836cd6266",
   "metadata": {},
   "outputs": [],
   "source": [
    "# import\n",
    "\n",
    "from dotenv import load_dotenv\n",
    "from IPython.display import Markdown, display, update_display\n",
    "from openai import OpenAI\n",
    "import ollama"
   ]
  },
  {
   "cell_type": "code",
   "execution_count": 26,
   "id": "e8e70cf8-31b1-4f94-a12f-46e183871a39",
   "metadata": {},
   "outputs": [],
   "source": [
    "# constants\n",
    "\n",
    "MODEL_GPT = 'gpt-4o-mini'\n",
    "MODEL_LLAMA = 'llama3.2'"
   ]
  },
  {
   "cell_type": "code",
   "execution_count": 27,
   "id": "555848fb-b8e7-4056-ae15-60faa74ce9e4",
   "metadata": {},
   "outputs": [],
   "source": [
    "# set up environment\n",
    "\n",
    "load_dotenv()\n",
    "openai = OpenAI()"
   ]
  },
  {
   "cell_type": "code",
   "execution_count": 28,
   "id": "1835c2c8-217a-465d-b46f-2d98a56e7b27",
   "metadata": {},
   "outputs": [],
   "source": [
    "def load_openai_key():\n",
    "    # Load environment variables in a file called .env\n",
    "    load_dotenv(override=True)\n",
    "    api_key = os.getenv('OPENAI_API_KEY')\n",
    "    openai = OpenAI()\n",
    "\n",
    "    # Check the key\n",
    "    if not api_key:\n",
    "        print(\"Error: No API key was found!\")\n",
    "    elif not api_key.startswith(\"sk-proj-\"):\n",
    "        print(\"Error: An API key was found, but it doesn't start sk-proj-; please check you're using the right key\")\n",
    "    elif api_key.strip() != api_key:\n",
    "        print(\"Error: An API key was found, but it looks like it might have space or tab characters at the start or end - please remove them!\")\n",
    "    else:\n",
    "        print(\"API key found and looks good so far!\")"
   ]
  },
  {
   "cell_type": "code",
   "execution_count": 29,
   "id": "295c9f65-15b3-4d1a-ae39-153c4f7461a6",
   "metadata": {},
   "outputs": [],
   "source": [
    "# question; type to ask new question\n",
    "\n",
    "question = \"\"\"\n",
    "Please provide an explaination what this code does and why:\n",
    "yield from {book.get(\"author\") for book in books if book.get(\"author\")}\n",
    "\"\"\"\n",
    "question = question[:5_000] # Truncate if more than 5,000 characters"
   ]
  },
  {
   "cell_type": "code",
   "execution_count": 30,
   "id": "c763335a-e8a0-4693-9000-9310e1f0274e",
   "metadata": {},
   "outputs": [],
   "source": [
    "# prompts\n",
    "\n",
    "system_prompt = \"You are a helpful technical tutor who answers questions about python code, software engineering, data science and LLMs\"\n",
    "user_prompt = \"Please give a detailed explanation to the following question: \" + question\n",
    " "
   ]
  },
  {
   "cell_type": "code",
   "execution_count": 31,
   "id": "4e20d9bf-ba7c-487e-8de7-65e1bae9f6f0",
   "metadata": {},
   "outputs": [
    {
     "data": {
      "text/markdown": [
       "This Python code snippet utilizes a generator feature alongside a set comprehension to yield author names from a collection of book dictionaries. Let's break down the components of the code to understand what it does and why it's structured this way:\n",
       "\n",
       "### Breakdown of the Code:\n",
       "\n",
       "1. **`yield from`**: \n",
       "    - This is a special statement in Python used in generator functions. It allows you to yield values from an iterable (like a list, set, or generator) directly, without needing to write an explicit loop.\n",
       "    - When the generator calls are made, the execution of the generator is paused at `yield from ...` until the iterator is exhausted, at which point control returns to the caller. This is useful for delegating part of the processing to another generator.\n",
       "\n",
       "2. **Set Comprehension `{ ... }`**:\n",
       "    - A set comprehension is a concise way to create a set in Python. It uses curly braces `{}` and iterates over an iterable (like a list), applying an expression to produce elements for the set.\n",
       "    - For this code, the expression is `book.get(\"author\")`, and the iterable is a collection called `books`.\n",
       "\n",
       "3. **The Expression `book.get(\"author\") for book in books if book.get(\"author\")`**:\n",
       "    - This loop iterates over each `book` in the `books` collection. It assumes that `books` is a list of dictionaries, with each dictionary representing a book and having keys (such as \"author\", \"title\", etc.).\n",
       "    - `book.get(\"author\")`: This retrieves the value associated with the \"author\" key from each `book` dictionary.\n",
       "    - The `if book.get(\"author\")` condition filters the books, ensuring that only those that have a non-`None` or non-empty value for the \"author\" key are included in the set. If a book doesn’t have an author, it won’t be part of the resulting set.\n",
       "\n",
       "### Purpose of the Code:\n",
       "\n",
       "The overall purpose of the code is to generate a unique set of authors from a list of book dictionaries while ignoring any books that do not specify an author.\n",
       "\n",
       "### Example:\n",
       "\n",
       "Here's a practical example to illustrate what the code does. Suppose you have the following list of book dictionaries:\n",
       "\n",
       "python\n",
       "books = [\n",
       "    {\"title\": \"Book One\", \"author\": \"Author A\"},\n",
       "    {\"title\": \"Book Two\", \"author\": \"Author B\"},\n",
       "    {\"title\": \"Book Three\", \"author\": None},\n",
       "    {\"title\": \"Book Four\", \"author\": \"Author A\"},\n",
       "    {\"title\": \"Book Five\"},  # No author key\n",
       "]\n",
       "\n",
       "# Code snippet\n",
       "yield from {book.get(\"author\") for book in books if book.get(\"author\")}\n",
       "\n",
       "\n",
       "### What Happens:\n",
       "\n",
       "- The set comprehension comprehensively checks each book:\n",
       "    - For \"Book One\" and \"Book Four\", it adds \"Author A\".\n",
       "    - For \"Book Two\", it adds \"Author B\".\n",
       "    - \"Book Three\" and \"Book Five\" are ignored because they either have no author or do not specify it.\n",
       "- The resulting set will be: `{\"Author A\", \"Author B\"}`.\n",
       "\n",
       "### Important Notes:\n",
       "- The resulting set contains unique author names because sets in Python do not allow duplicate entries. This is significant when you may have multiple books by the same author.\n",
       "- The use of `yield from` indicates that this snippet is expected to be part of a generator function. When called, it will yield each author one by one.\n",
       "\n",
       "By using this approach, the author extraction from the book records is made both efficient and clean, leveraging Python's powerful data structures and features."
      ],
      "text/plain": [
       "<IPython.core.display.Markdown object>"
      ]
     },
     "metadata": {},
     "output_type": "display_data"
    }
   ],
   "source": [
    "# messages\n",
    "\n",
    "messages = [\n",
    "    {\"role\": \"system\", \"content\": system_prompt},\n",
    "    {\"role\": \"user\", \"content\": user_prompt}\n",
    "]\n",
    "\n",
    "# Get gpt-4o-mini to answer, with streaming\n",
    "\n",
    "stream = openai.chat.completions.create(model=MODEL_GPT, messages=messages,stream=True)\n",
    "    \n",
    "response = \"\"\n",
    "display_handle = display(Markdown(\"\"), display_id=True)\n",
    "for chunk in stream:\n",
    "    response += chunk.choices[0].delta.content or ''\n",
    "    response = response.replace(\"```\",\"\").replace(\"markdown\", \"\")\n",
    "    update_display(Markdown(response), display_id=display_handle.display_id)\n"
   ]
  },
  {
   "cell_type": "code",
   "execution_count": 33,
   "id": "f9201b96-a1e5-4b5f-b4cd-c5550d5d5756",
   "metadata": {},
   "outputs": [
    {
     "data": {
      "text/markdown": [
       "**Code Explanation**\n",
       "\n",
       "The provided code snippet utilizes several features of Python, including generator expressions, dictionary lookups, and the `yield from` keyword. Let's break it down:\n",
       "\n",
       "```python\n",
       "yield from {book.get(\"author\") for book in books if book.get(\"author\")}\n",
       "```\n",
       "\n",
       "Here's a step-by-step explanation of what this code does:\n",
       "\n",
       "1. **Dictionary Comprehension**: `{book.get(\"author\") for book in books if book.get(\"author\")}`\n",
       "\n",
       "   This part creates an expression that iterates over the `books` list and applies the conditions specified by `if book.get(\"author\")`.\n",
       "\n",
       "   - `for book in books`: Loops through each book in the `books` list.\n",
       "   - `book.get(\"author\")`: Retrieves the value associated with the key `\"author\"` from each book's dictionary. This operation is not necessary, as we'll see later.\n",
       "\n",
       "2. **Dictionary Comprehension Evaluation**: The comprehension expression evaluates to an iterator object (in Python 3.x) or a dictionary object (in Python 2.x).\n",
       "\n",
       "   - In Python 3.x, this will yield each value from the dictionary comprehension for each book in `books`.\n",
       "   - In Python 2.x, it will return a new dictionary where keys are the books and values are their corresponding author.\n",
       "\n",
       "3. **`yield from`**: This keyword is used to create a generator that yields values from another iterable (like our dictionary comprehension).\n",
       "\n",
       "4. **`yield from` Evaluation**:\n",
       "\n",
       "   - When `yield from` encounters an iterator, it \"yields\" each value from that iterator without creating a new iterator or storing all the values in memory.\n",
       "   - In this case, we're using `yield from` with the result of our dictionary comprehension, which is an iterator object.\n",
       "\n",
       "Now, let's discuss why and when to use such code:\n",
       "\n",
       "**Why Use This Code?**\n",
       "\n",
       "This code provides several benefits:\n",
       "\n",
       "* **Lazy Evaluation**: The code evaluates each value on demand (i.e., as it's needed), making it memory-efficient for large datasets.\n",
       "* **Flexibility**: By using a generator expression and `yield from`, we can reuse this logic in other contexts where we need to process books with authors.\n",
       "\n",
       "**When to Use This Code?**\n",
       "\n",
       "Use this code when:\n",
       "\n",
       "* You have a list of books, and you want to efficiently extract their authors without loading all the data into memory at once.\n",
       "* You're working with large datasets, and performance is crucial.\n",
       "* You need to create an iterable sequence from another iterable while maintaining lazy evaluation.\n",
       "\n",
       "Here's an example that demonstrates how this code can be used:\n",
       "\n",
       "```python\n",
       "books = [\n",
       "    {\"title\": \"Book 1\", \"author\": \"John Doe\"},\n",
       "    {\"title\": \"Book 2\", \"author\": None},\n",
       "    {\"title\": \"Book 3\", \"author\": \"Jane Smith\"}\n",
       "]\n",
       "\n",
       "def process_books(books):\n",
       "    authors = yield from {book.get(\"author\") for book in books if book.get(\"author\")}\n",
       "    print(authors)\n",
       "\n",
       "from concurrent.futures import ThreadPoolExecutor\n",
       "\n",
       "with ThreadPoolExecutor() as executor:\n",
       "    executor.submit(process_books, books)\n",
       "```\n",
       "\n",
       "This code processes the list of `books` and prints their corresponding author(s) without having to load all the data into memory at once."
      ],
      "text/plain": [
       "<IPython.core.display.Markdown object>"
      ]
     },
     "metadata": {},
     "output_type": "display_data"
    }
   ],
   "source": [
    "# Get Llama 3.2 to answer\n",
    "\n",
    "response = ollama.chat(model=MODEL_LLAMA, messages=messages)\n",
    "reply = response['message']['content']\n",
    "display(Markdown(reply))"
   ]
  },
  {
   "cell_type": "code",
   "execution_count": null,
   "id": "2489eb53-77b2-45ec-bcf5-ed00c326ed6b",
   "metadata": {},
   "outputs": [],
   "source": []
  }
 ],
 "metadata": {
  "kernelspec": {
   "display_name": "Python 3 (ipykernel)",
   "language": "python",
   "name": "python3"
  },
  "language_info": {
   "codemirror_mode": {
    "name": "ipython",
    "version": 3
   },
   "file_extension": ".py",
   "mimetype": "text/x-python",
   "name": "python",
   "nbconvert_exporter": "python",
   "pygments_lexer": "ipython3",
   "version": "3.11.13"
  }
 },
 "nbformat": 4,
 "nbformat_minor": 5
}
